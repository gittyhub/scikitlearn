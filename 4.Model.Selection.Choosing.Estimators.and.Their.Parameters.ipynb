{
 "cells": [
  {
   "cell_type": "markdown",
   "metadata": {},
   "source": [
    "# Model Selection Choosing Estimators and Their Parameters\n",
    "<br>\n",
    "https://scikit-learn.org/stable/tutorial/statistical_inference/model_selection.html"
   ]
  },
  {
   "cell_type": "markdown",
   "metadata": {},
   "source": [
    "So you have a model\n",
    "Separate your data into training and test set\n",
    "Pass train the model using the training set\n",
    "Your model makes a prediction compares it to the test set\n",
    "You can get a score on your prediction\n",
    "But this is only a score on one data set. Say you have 10 observation, you use observation 1-6 to train and 7-10 to test\n",
    "You can futher split your data into into different folds to test the model, say 4-10 is train and 1-3 is test\n",
    "You will get a different score from the first prediction and second prediction\n",
    "When we slice the data into different folds like this to get the score its call cross validation\n",
    "Data can be split manually or help with a class, KFold\n",
    "You can cross validate using KFold that will fold the data in differnt sets and give you multiple scores\n",
    "There is a helper that will help you with cross validation called cross_val_score\n",
    "Lastly there is a grid search object to use with an cross validator estimator \n",
    "that computes the score during the fit of an estimator \n",
    "on a paremter grid \n",
    "and picks the parameter to maximize the corss validation score (so cross validation on steriods)\n",
    "\n",
    "At the end of the day we are running test to to put through the model to get the highest score"
   ]
  },
  {
   "cell_type": "markdown",
   "metadata": {},
   "source": [
    "## Score, and cross-validated scores\n",
    "\n",
    "Every estimator has a score that gauges how accurate the fit on the new data. Here, bigger is better.\n",
    "\n",
    "The estimator we choose will be from the SVM support vector machine class. Our option for estimator will be\n",
    "either SVC for classification or SVR for regression. For this exercise we will be mostly working with the classification estimator, SVC and its different kernals."
   ]
  },
  {
   "cell_type": "code",
   "execution_count": 8,
   "metadata": {},
   "outputs": [
    {
     "data": {
      "text/plain": [
       "numpy.ndarray"
      ]
     },
     "execution_count": 8,
     "metadata": {},
     "output_type": "execute_result"
    }
   ],
   "source": [
    "from sklearn import datasets, svm #import dataset package and svm module (classification estimator)\n",
    "#SVM is the support vector machine, its vetcor help identify or reduce the margin between classes\n",
    "X_digits, y_digits = datasets.load_digits(return_X_y=True) #returns data as (data,target) array instead of bunch, X data, y target\n",
    "#when you call the dataset, it returns it for easy loading in the X_digits, y_digits setup you have\n",
    "svc = svm.SVC(C=1, kernel='linear') #from svm calls the svc module, support vector classification.\n",
    "#setup the svc parameter using the linear kernal, and C =1\n",
    "svc.fit(X_digits[:-100], y_digits[:-100]).score(X_digits[-100:], y_digits[-100:]) #use the svc module we imported to variable svc\n",
    "#fit all but the last 100 data in the X_digits variable, to all but the last 100 target data in y_digits\n",
    "#return the score (a method) or how accurate the test data is to the label \n",
    "#score returns the mean accuracy on the given test data and labels"
   ]
  },
  {
   "cell_type": "markdown",
   "metadata": {},
   "source": [
    "## Kfold cross-validation\n",
    "\n",
    "To get a better understanding of the predicted accuray (goodness of fit), we can split the data into 'fold' for the training and testing"
   ]
  },
  {
   "cell_type": "code",
   "execution_count": 41,
   "metadata": {
    "scrolled": true
   },
   "outputs": [
    {
     "name": "stdout",
     "output_type": "stream",
     "text": [
      "599\n",
      "599\n",
      "599\n",
      "[0.9348914858096828, 0.9565943238731218, 0.9398998330550918]\n"
     ]
    }
   ],
   "source": [
    "import numpy as np\n",
    "X_folds = np.array_split(X_digits, 3) #X_digits,y_digits is 1797 vector of image array\n",
    "y_folds = np.array_split(y_digits, 3) #split into 3 even array\n",
    "scores = list()\n",
    "for k in range(3):\n",
    "    # We use 'list' to copy, in order to 'pop' later on\n",
    "    X_train = list(X_folds) #set X_train as list of X_folds which was an array to a list of 3 array wiith 599 image vector\n",
    "    X_test = X_train.pop(k) #we pop the first element of the X_train, leaving 2 array in the list, this will be our test set\n",
    "    X_train = np.concatenate(X_train) #this converts X_train back to array so we can pass to the fit method, it is now 1198 image vector instead of array 1 and 2\n",
    "    y_train = list(y_folds)\n",
    "    y_test = y_train.pop(k)\n",
    "    y_train = np.concatenate(y_train)\n",
    "    scores.append(svc.fit(X_train,y_train).score(X_test,y_test)) #we use the svc object we called above to fit each fold of the data\n",
    "print(scores)                                            "
   ]
  },
  {
   "cell_type": "markdown",
   "metadata": {},
   "source": [
    "Here we see the KFold cross validation is taking each of the 3 set of the digits data and fitting them to the 3 set of our target data. Essentially splitting the data into equal parts and score the model fit to each parts\n",
    "\n",
    "So the loop will:\n",
    "fit array 1 and 2, get a score, append to score list\n",
    "fit array 0 and 2, get a score, append to score list\n",
    "fit array 0 and 1, get a score, append to score list\n",
    "\n",
    "1) Set X_train as list of X_folds, list for poping\n",
    "2) Set X_test as a list of array, 1 and 2, we popped element 0 \n",
    "3) Convert X_train to arrary in stead of list of array through concatenate\n",
    "Now for the y/target data\n",
    "4) Set y_train as list of y_folds, list for poping\n",
    "5) Set y_test as a list of array, 1 and 2, we popped element 0 \n",
    "6) Convert y_train to arrary again through concatenate\n",
    "Finally we fit the data to the linear model using svc we created earlier and run the score method appending it to score list.\n",
    "\n",
    "We can also use Kfold method in sklearn.model_selection\n",
    "https://scikit-learn.org/stable/modules/generated/sklearn.model_selection.KFold.html#sklearn.model_selection.KFold"
   ]
  },
  {
   "cell_type": "markdown",
   "metadata": {},
   "source": [
    "## Cross-validation generators\n",
    "Scikit-lean has a collection of classes that can generate list of train/test indices for different cross-validation strategies. Basically the classes available by Scikit-learn and split the data for you in like we did above using the numpy array_split.\n",
    "\n",
    "These classes use a split method (a function inside a class) which will take the input dataset and split it, returning train/test set indicies for each iteration of the desired cross-validation strategy."
   ]
  },
  {
   "cell_type": "markdown",
   "metadata": {},
   "source": [
    "So you have a model\n",
    "Separate your data into training and test set\n",
    "Pass train the model using the training set\n",
    "Your model makes a prediction compares it to the test set\n",
    "You can get a score on your prediction\n",
    "But this is only a score on one data set. Say you have 10 observation, you use observation 1-6 to train and 7-10 to test\n",
    "You can futher split your data into into different folds to test the model, say 4-10 is train and 1-3 is test\n",
    "You will get a different score from the first prediction and second prediction\n",
    "When we slice the data into different folds like this to get the score its call cross validation\n",
    "Data can be split manually or help with a class, KFold\n",
    "You can cross validate using KFold that will fold the data in differnt sets and give you multiple scores\n",
    "There is a helper that will help you with cross validation called cross_val_score\n",
    "Lastly there is a grid search object to use with an cross validator estimator \n",
    "that computes the score during the fit of an estimator \n",
    "on a paremter grid \n",
    "and picks the parameter to maximize the corss validation score (so cross validation on steriods)\n",
    "\n",
    "At the end of the day we are running test to to put through the model to get the highest score"
   ]
  },
  {
   "cell_type": "code",
   "execution_count": 62,
   "metadata": {},
   "outputs": [
    {
     "name": "stdout",
     "output_type": "stream",
     "text": [
      "Train: [2 3 4 5 6 7 8 9] | test: [0 1]\n",
      "Train: [0 1 4 5 6 7 8 9] | test: [2 3]\n",
      "Train: [0 1 2 3 6 7 8 9] | test: [4 5]\n",
      "Train: [0 1 2 3 4 5 8 9] | test: [6 7]\n",
      "Train: [0 1 2 3 4 5 6 7] | test: [8 9]\n"
     ]
    }
   ],
   "source": [
    "from sklearn.model_selection import KFold, cross_val_score # import the cross-validation we want to use, here its Kfold\n",
    "X = [\"a\", \"a\", \"a\", \"b\", \"b\", \"c\", \"c\", \"c\", \"c\", \"c\"]\n",
    "k_fold = KFold(n_splits=5) #sets the folds to 5\n",
    "for train_indicies, test_indicies in k_fold.split(X): #k_fold.split(X) splits the list into train and test\n",
    "    print('Train: %s | test: %s' % (train_indicies, test_indicies))"
   ]
  },
  {
   "cell_type": "markdown",
   "metadata": {
    "tags": []
   },
   "source": [
    "We start with our list of 10 items\n",
    "Create the object k_fold, using the KFold and split the data into 5 folds\n",
    "The 5 folds will be used as the training set\n",
    "The test set will use two items to check for accuaracy. Why two for the test set, because we are splitting into equal parts, so 5 equal parts divided by 10 items is 2. So if i had 15 items in a list, with a 5 split, the test set would have 3 items (15/5). "
   ]
  },
  {
   "cell_type": "code",
   "execution_count": 65,
   "metadata": {
    "scrolled": false
   },
   "outputs": [
    {
     "name": "stdout",
     "output_type": "stream",
     "text": [
      "Train: [ 3  4  5  6  7  8  9 10 11 12 13 14] | test: [0 1 2]\n",
      "Train: [ 0  1  2  6  7  8  9 10 11 12 13 14] | test: [3 4 5]\n",
      "Train: [ 0  1  2  3  4  5  9 10 11 12 13 14] | test: [6 7 8]\n",
      "Train: [ 0  1  2  3  4  5  6  7  8 12 13 14] | test: [ 9 10 11]\n",
      "Train: [ 0  1  2  3  4  5  6  7  8  9 10 11] | test: [12 13 14]\n"
     ]
    }
   ],
   "source": [
    "X = [\"a\", \"a\", \"a\", \"b\", \"b\", \"c\", \"c\", \"c\", \"c\", \"c\",\"e\",\"e\",\"e\",\"e\",\"e\"]\n",
    "k_fold = KFold(n_splits=5) #sets the folds to 5\n",
    "for train_indicies, test_indicies in k_fold.split(X): #k_fold.split(X) splits the list into train and test\n",
    "    print('Train: %s | test: %s' % (train_indicies, test_indicies))\n"
   ]
  },
  {
   "cell_type": "markdown",
   "metadata": {
    "tags": []
   },
   "source": [
    "Likewise if we had 16 items split 4 folds, 16/4 = 4. So 4 in the test set, the remaing in the training set"
   ]
  },
  {
   "cell_type": "code",
   "execution_count": 66,
   "metadata": {},
   "outputs": [
    {
     "name": "stdout",
     "output_type": "stream",
     "text": [
      "Train: [ 4  5  6  7  8  9 10 11 12 13 14 15] | test: [0 1 2 3]\n",
      "Train: [ 0  1  2  3  8  9 10 11 12 13 14 15] | test: [4 5 6 7]\n",
      "Train: [ 0  1  2  3  4  5  6  7 12 13 14 15] | test: [ 8  9 10 11]\n",
      "Train: [ 0  1  2  3  4  5  6  7  8  9 10 11] | test: [12 13 14 15]\n"
     ]
    }
   ],
   "source": [
    "X = [\"a\", \"a\", \"a\", \"b\", \"b\", \"c\", \"c\", \"c\", \"c\", \"c\",\"e\",\"e\",\"e\",\"e\",\"e\",\"f\"]\n",
    "k_fold = KFold(n_splits=4) #sets the folds to 5\n",
    "for train_indicies, test_indicies in k_fold.split(X): #k_fold.split(X) splits the list into train and test\n",
    "    print('Train: %s | test: %s' % (train_indicies, test_indicies))"
   ]
  },
  {
   "cell_type": "markdown",
   "metadata": {},
   "source": [
    "### Applying Cross-Validation method"
   ]
  },
  {
   "cell_type": "code",
   "execution_count": 75,
   "metadata": {},
   "outputs": [
    {
     "name": "stdout",
     "output_type": "stream",
     "text": [
      "1797\n",
      "1797\n",
      "Train: 1437 | test: 360\n",
      "Train: 1437 | test: 360\n",
      "Train: 1438 | test: 359\n",
      "Train: 1438 | test: 359\n",
      "Train: 1438 | test: 359\n"
     ]
    }
   ],
   "source": [
    "#The digits data set has 1797 image that we imported as a matrix array, X_digits and y_digits\n",
    "#We can examin how the folds are split\n",
    "print(len(X_digits))\n",
    "print(len(y_digits))\n",
    "\n",
    "#If we fold the data into 5 folds, then we should have 360 in the test set and 1437 in the train set\n",
    "#test set=1797/5 = 359.4 or 360\n",
    "#train set=1797-360 = 1437\n",
    "#Below we see that there are 5 folds and each fold is comprised of ~1437 training set and ~360 test set, *note rounding\n",
    "\n",
    "k_fold = KFold(n_splits=5) #sets the folds to 5\n",
    "for train_indicies, test_indicies in k_fold.split(X_digits): #k_fold.split(X) splits the list into train and test\n",
    "    print('Train: %s | test: %s' % (len(train_indicies), len(test_indicies)))\n",
    "    #print('Train: %s | test: %s' % (train_indicies, test_indicies))"
   ]
  },
  {
   "cell_type": "code",
   "execution_count": 77,
   "metadata": {},
   "outputs": [
    {
     "name": "stdout",
     "output_type": "stream",
     "text": [
      "Train: [ 360  361  362 ... 1794 1795 1796] | test: [  0   1   2   3   4   5   6   7   8   9  10  11  12  13  14  15  16  17\n",
      "  18  19  20  21  22  23  24  25  26  27  28  29  30  31  32  33  34  35\n",
      "  36  37  38  39  40  41  42  43  44  45  46  47  48  49  50  51  52  53\n",
      "  54  55  56  57  58  59  60  61  62  63  64  65  66  67  68  69  70  71\n",
      "  72  73  74  75  76  77  78  79  80  81  82  83  84  85  86  87  88  89\n",
      "  90  91  92  93  94  95  96  97  98  99 100 101 102 103 104 105 106 107\n",
      " 108 109 110 111 112 113 114 115 116 117 118 119 120 121 122 123 124 125\n",
      " 126 127 128 129 130 131 132 133 134 135 136 137 138 139 140 141 142 143\n",
      " 144 145 146 147 148 149 150 151 152 153 154 155 156 157 158 159 160 161\n",
      " 162 163 164 165 166 167 168 169 170 171 172 173 174 175 176 177 178 179\n",
      " 180 181 182 183 184 185 186 187 188 189 190 191 192 193 194 195 196 197\n",
      " 198 199 200 201 202 203 204 205 206 207 208 209 210 211 212 213 214 215\n",
      " 216 217 218 219 220 221 222 223 224 225 226 227 228 229 230 231 232 233\n",
      " 234 235 236 237 238 239 240 241 242 243 244 245 246 247 248 249 250 251\n",
      " 252 253 254 255 256 257 258 259 260 261 262 263 264 265 266 267 268 269\n",
      " 270 271 272 273 274 275 276 277 278 279 280 281 282 283 284 285 286 287\n",
      " 288 289 290 291 292 293 294 295 296 297 298 299 300 301 302 303 304 305\n",
      " 306 307 308 309 310 311 312 313 314 315 316 317 318 319 320 321 322 323\n",
      " 324 325 326 327 328 329 330 331 332 333 334 335 336 337 338 339 340 341\n",
      " 342 343 344 345 346 347 348 349 350 351 352 353 354 355 356 357 358 359]\n",
      "Train: [   0    1    2 ... 1794 1795 1796] | test: [360 361 362 363 364 365 366 367 368 369 370 371 372 373 374 375 376 377\n",
      " 378 379 380 381 382 383 384 385 386 387 388 389 390 391 392 393 394 395\n",
      " 396 397 398 399 400 401 402 403 404 405 406 407 408 409 410 411 412 413\n",
      " 414 415 416 417 418 419 420 421 422 423 424 425 426 427 428 429 430 431\n",
      " 432 433 434 435 436 437 438 439 440 441 442 443 444 445 446 447 448 449\n",
      " 450 451 452 453 454 455 456 457 458 459 460 461 462 463 464 465 466 467\n",
      " 468 469 470 471 472 473 474 475 476 477 478 479 480 481 482 483 484 485\n",
      " 486 487 488 489 490 491 492 493 494 495 496 497 498 499 500 501 502 503\n",
      " 504 505 506 507 508 509 510 511 512 513 514 515 516 517 518 519 520 521\n",
      " 522 523 524 525 526 527 528 529 530 531 532 533 534 535 536 537 538 539\n",
      " 540 541 542 543 544 545 546 547 548 549 550 551 552 553 554 555 556 557\n",
      " 558 559 560 561 562 563 564 565 566 567 568 569 570 571 572 573 574 575\n",
      " 576 577 578 579 580 581 582 583 584 585 586 587 588 589 590 591 592 593\n",
      " 594 595 596 597 598 599 600 601 602 603 604 605 606 607 608 609 610 611\n",
      " 612 613 614 615 616 617 618 619 620 621 622 623 624 625 626 627 628 629\n",
      " 630 631 632 633 634 635 636 637 638 639 640 641 642 643 644 645 646 647\n",
      " 648 649 650 651 652 653 654 655 656 657 658 659 660 661 662 663 664 665\n",
      " 666 667 668 669 670 671 672 673 674 675 676 677 678 679 680 681 682 683\n",
      " 684 685 686 687 688 689 690 691 692 693 694 695 696 697 698 699 700 701\n",
      " 702 703 704 705 706 707 708 709 710 711 712 713 714 715 716 717 718 719]\n",
      "Train: [   0    1    2 ... 1794 1795 1796] | test: [ 720  721  722  723  724  725  726  727  728  729  730  731  732  733\n",
      "  734  735  736  737  738  739  740  741  742  743  744  745  746  747\n",
      "  748  749  750  751  752  753  754  755  756  757  758  759  760  761\n",
      "  762  763  764  765  766  767  768  769  770  771  772  773  774  775\n",
      "  776  777  778  779  780  781  782  783  784  785  786  787  788  789\n",
      "  790  791  792  793  794  795  796  797  798  799  800  801  802  803\n",
      "  804  805  806  807  808  809  810  811  812  813  814  815  816  817\n",
      "  818  819  820  821  822  823  824  825  826  827  828  829  830  831\n",
      "  832  833  834  835  836  837  838  839  840  841  842  843  844  845\n",
      "  846  847  848  849  850  851  852  853  854  855  856  857  858  859\n",
      "  860  861  862  863  864  865  866  867  868  869  870  871  872  873\n",
      "  874  875  876  877  878  879  880  881  882  883  884  885  886  887\n",
      "  888  889  890  891  892  893  894  895  896  897  898  899  900  901\n",
      "  902  903  904  905  906  907  908  909  910  911  912  913  914  915\n",
      "  916  917  918  919  920  921  922  923  924  925  926  927  928  929\n",
      "  930  931  932  933  934  935  936  937  938  939  940  941  942  943\n",
      "  944  945  946  947  948  949  950  951  952  953  954  955  956  957\n",
      "  958  959  960  961  962  963  964  965  966  967  968  969  970  971\n",
      "  972  973  974  975  976  977  978  979  980  981  982  983  984  985\n",
      "  986  987  988  989  990  991  992  993  994  995  996  997  998  999\n",
      " 1000 1001 1002 1003 1004 1005 1006 1007 1008 1009 1010 1011 1012 1013\n",
      " 1014 1015 1016 1017 1018 1019 1020 1021 1022 1023 1024 1025 1026 1027\n",
      " 1028 1029 1030 1031 1032 1033 1034 1035 1036 1037 1038 1039 1040 1041\n",
      " 1042 1043 1044 1045 1046 1047 1048 1049 1050 1051 1052 1053 1054 1055\n",
      " 1056 1057 1058 1059 1060 1061 1062 1063 1064 1065 1066 1067 1068 1069\n",
      " 1070 1071 1072 1073 1074 1075 1076 1077 1078]\n",
      "Train: [   0    1    2 ... 1794 1795 1796] | test: [1079 1080 1081 1082 1083 1084 1085 1086 1087 1088 1089 1090 1091 1092\n",
      " 1093 1094 1095 1096 1097 1098 1099 1100 1101 1102 1103 1104 1105 1106\n",
      " 1107 1108 1109 1110 1111 1112 1113 1114 1115 1116 1117 1118 1119 1120\n",
      " 1121 1122 1123 1124 1125 1126 1127 1128 1129 1130 1131 1132 1133 1134\n",
      " 1135 1136 1137 1138 1139 1140 1141 1142 1143 1144 1145 1146 1147 1148\n",
      " 1149 1150 1151 1152 1153 1154 1155 1156 1157 1158 1159 1160 1161 1162\n",
      " 1163 1164 1165 1166 1167 1168 1169 1170 1171 1172 1173 1174 1175 1176\n",
      " 1177 1178 1179 1180 1181 1182 1183 1184 1185 1186 1187 1188 1189 1190\n",
      " 1191 1192 1193 1194 1195 1196 1197 1198 1199 1200 1201 1202 1203 1204\n",
      " 1205 1206 1207 1208 1209 1210 1211 1212 1213 1214 1215 1216 1217 1218\n",
      " 1219 1220 1221 1222 1223 1224 1225 1226 1227 1228 1229 1230 1231 1232\n",
      " 1233 1234 1235 1236 1237 1238 1239 1240 1241 1242 1243 1244 1245 1246\n",
      " 1247 1248 1249 1250 1251 1252 1253 1254 1255 1256 1257 1258 1259 1260\n",
      " 1261 1262 1263 1264 1265 1266 1267 1268 1269 1270 1271 1272 1273 1274\n",
      " 1275 1276 1277 1278 1279 1280 1281 1282 1283 1284 1285 1286 1287 1288\n",
      " 1289 1290 1291 1292 1293 1294 1295 1296 1297 1298 1299 1300 1301 1302\n",
      " 1303 1304 1305 1306 1307 1308 1309 1310 1311 1312 1313 1314 1315 1316\n",
      " 1317 1318 1319 1320 1321 1322 1323 1324 1325 1326 1327 1328 1329 1330\n",
      " 1331 1332 1333 1334 1335 1336 1337 1338 1339 1340 1341 1342 1343 1344\n",
      " 1345 1346 1347 1348 1349 1350 1351 1352 1353 1354 1355 1356 1357 1358\n",
      " 1359 1360 1361 1362 1363 1364 1365 1366 1367 1368 1369 1370 1371 1372\n",
      " 1373 1374 1375 1376 1377 1378 1379 1380 1381 1382 1383 1384 1385 1386\n",
      " 1387 1388 1389 1390 1391 1392 1393 1394 1395 1396 1397 1398 1399 1400\n",
      " 1401 1402 1403 1404 1405 1406 1407 1408 1409 1410 1411 1412 1413 1414\n",
      " 1415 1416 1417 1418 1419 1420 1421 1422 1423 1424 1425 1426 1427 1428\n",
      " 1429 1430 1431 1432 1433 1434 1435 1436 1437]\n",
      "Train: [   0    1    2 ... 1435 1436 1437] | test: [1438 1439 1440 1441 1442 1443 1444 1445 1446 1447 1448 1449 1450 1451\n",
      " 1452 1453 1454 1455 1456 1457 1458 1459 1460 1461 1462 1463 1464 1465\n",
      " 1466 1467 1468 1469 1470 1471 1472 1473 1474 1475 1476 1477 1478 1479\n",
      " 1480 1481 1482 1483 1484 1485 1486 1487 1488 1489 1490 1491 1492 1493\n",
      " 1494 1495 1496 1497 1498 1499 1500 1501 1502 1503 1504 1505 1506 1507\n",
      " 1508 1509 1510 1511 1512 1513 1514 1515 1516 1517 1518 1519 1520 1521\n",
      " 1522 1523 1524 1525 1526 1527 1528 1529 1530 1531 1532 1533 1534 1535\n",
      " 1536 1537 1538 1539 1540 1541 1542 1543 1544 1545 1546 1547 1548 1549\n",
      " 1550 1551 1552 1553 1554 1555 1556 1557 1558 1559 1560 1561 1562 1563\n",
      " 1564 1565 1566 1567 1568 1569 1570 1571 1572 1573 1574 1575 1576 1577\n",
      " 1578 1579 1580 1581 1582 1583 1584 1585 1586 1587 1588 1589 1590 1591\n",
      " 1592 1593 1594 1595 1596 1597 1598 1599 1600 1601 1602 1603 1604 1605\n",
      " 1606 1607 1608 1609 1610 1611 1612 1613 1614 1615 1616 1617 1618 1619\n",
      " 1620 1621 1622 1623 1624 1625 1626 1627 1628 1629 1630 1631 1632 1633\n",
      " 1634 1635 1636 1637 1638 1639 1640 1641 1642 1643 1644 1645 1646 1647\n",
      " 1648 1649 1650 1651 1652 1653 1654 1655 1656 1657 1658 1659 1660 1661\n",
      " 1662 1663 1664 1665 1666 1667 1668 1669 1670 1671 1672 1673 1674 1675\n",
      " 1676 1677 1678 1679 1680 1681 1682 1683 1684 1685 1686 1687 1688 1689\n",
      " 1690 1691 1692 1693 1694 1695 1696 1697 1698 1699 1700 1701 1702 1703\n",
      " 1704 1705 1706 1707 1708 1709 1710 1711 1712 1713 1714 1715 1716 1717\n",
      " 1718 1719 1720 1721 1722 1723 1724 1725 1726 1727 1728 1729 1730 1731\n",
      " 1732 1733 1734 1735 1736 1737 1738 1739 1740 1741 1742 1743 1744 1745\n",
      " 1746 1747 1748 1749 1750 1751 1752 1753 1754 1755 1756 1757 1758 1759\n",
      " 1760 1761 1762 1763 1764 1765 1766 1767 1768 1769 1770 1771 1772 1773\n",
      " 1774 1775 1776 1777 1778 1779 1780 1781 1782 1783 1784 1785 1786 1787\n",
      " 1788 1789 1790 1791 1792 1793 1794 1795 1796]\n"
     ]
    }
   ],
   "source": [
    "k_fold = KFold(n_splits=5) #sets the folds to 5\n",
    "for train_indicies, test_indicies in k_fold.split(X_digits): #k_fold.split(X) splits the list into train and test\n",
    "    print('Train: %s | test: %s' % (train_indicies, test_indicies))\n",
    "    \n",
    "#From the below we how the fold incidies are divided:\n",
    "#Fold #1: Traing:(360-1796) | Test-(0-359)\n",
    "#Fold #2: Traing:(0-359, 720-1796) | Test-(360-719)\n",
    "#Fold #3: Traing:(0-719, 1079-1796) | Test-(720-1078)\n",
    "#Fold #4: TTraing:(0-1078, 1438-1796) | Test-(1079-1437)\n",
    "#Fold #5: Traing:(0-1437) | Test-(1438-1796)"
   ]
  },
  {
   "cell_type": "code",
   "execution_count": 78,
   "metadata": {
    "scrolled": true
   },
   "outputs": [
    {
     "data": {
      "text/plain": [
       "[0.9638888888888889,\n",
       " 0.9222222222222223,\n",
       " 0.9637883008356546,\n",
       " 0.9637883008356546,\n",
       " 0.9303621169916435]"
      ]
     },
     "execution_count": 78,
     "metadata": {},
     "output_type": "execute_result"
    }
   ],
   "source": [
    "#Using list comprehension we can fit the digits data and score it using kfold method\n",
    "[svc.fit(X_digits[train], y_digits[train]).score(X_digits[test], y_digits[test])\n",
    " for train, test in k_fold.split(X_digits)]\n",
    "\n",
    "#Apply the svc object and fit method, to use X_digits in range train as the train set, and y_digits in range train as test set,\n",
    "#using the score method to get score, or how  accurate the pection was, higher is better. In each fold, model performed over 90% with its prediction"
   ]
  },
  {
   "cell_type": "markdown",
   "metadata": {},
   "source": [
    "Instead of svc object to get the score of the Kfold, to get the cross-validation score, lets use cross_val_score helper. We will need to supply the help with the following:\n",
    "\n",
    "1) Estimator - (SVM (support vector machine)->SVC(support vector classification))\n",
    "2) Cross Validation Object - imported from sklearn.model_selection above\n",
    "3) Input data set X_digits and y_digits\n",
    "\n",
    "cross_val_score will split the data into training and testing sets, to train the estimator using the data supplied and compute the scores based on the testing set for each iteration of the cross-validation"
   ]
  },
  {
   "cell_type": "code",
   "execution_count": 80,
   "metadata": {},
   "outputs": [
    {
     "data": {
      "text/plain": [
       "array([0.96388889, 0.92222222, 0.9637883 , 0.9637883 , 0.93036212])"
      ]
     },
     "execution_count": 80,
     "metadata": {},
     "output_type": "execute_result"
    }
   ],
   "source": [
    "cross_val_score(svc, X_digits, y_digits, cv=k_fold, n_jobs=-1)\n",
    "\n",
    "#-1 means use all CPU on computer"
   ]
  },
  {
   "cell_type": "code",
   "execution_count": 81,
   "metadata": {},
   "outputs": [
    {
     "data": {
      "text/plain": [
       "array([0.96578289, 0.92708922, 0.96681476, 0.96362897, 0.93192644])"
      ]
     },
     "execution_count": 81,
     "metadata": {},
     "output_type": "execute_result"
    }
   ],
   "source": [
    "#We can pass a scoreing argument to apply different scoring method\n",
    "cross_val_score(svc, X_digits, y_digits, cv=k_fold, scoring='precision_macro')"
   ]
  },
  {
   "cell_type": "markdown",
   "metadata": {},
   "source": [
    "There are other Cross-validation generator we can use as well, KFolds, StratificationKFold, GroupKFold, ect"
   ]
  },
  {
   "cell_type": "markdown",
   "metadata": {},
   "source": [
    "# Exercise 1"
   ]
  },
  {
   "cell_type": "markdown",
   "metadata": {},
   "source": [
    "On the digits dataset, plot the cross-validation score of a SVC estimator with an linear kernel as a function of parameter C (use a logarithmic grid of points, from 1 to 10).\n",
    "\n",
    "Lets break this down:\n",
    "\n",
    "On the digits dataset<br>\n",
    "X_digits, y_digits = datasets.load_digits(return_X_y=True)\n",
    "\n",
    "plot the cross-validation score<br>\n",
    "cross_val_score method from sklearn.model_selection\n",
    "cross_val_score(estimator, X, y=None, cv=None, n_jobs=None)\n",
    "\n",
    "of a SVC estimator with an linear kernel<br>\n",
    "svc = svm.SVC(C=1, kernel='linear')\n",
    "\n",
    "as a function of parameter C<br>\n",
    "(use a logarithmic grid of points, from 1 to 10)\n",
    "\n",
    "Its asking use to use the output from the logarithmic grid, as value C in the SVC. C here is the regularization prameter or how much we allow the model to overfit. This regularize or shrinking of the coefficient to zero. This helps the model avoid learning complex methods to avoid overfitting. Overfitting will have a low cross validation score as it will fit a few predictions well."
   ]
  },
  {
   "cell_type": "markdown",
   "metadata": {},
   "source": [
    "#### This is the code that was given"
   ]
  },
  {
   "cell_type": "code",
   "execution_count": 86,
   "metadata": {},
   "outputs": [
    {
     "data": {
      "text/plain": [
       "array([1.00000000e-10, 1.29154967e-09, 1.66810054e-08, 2.15443469e-07,\n",
       "       2.78255940e-06, 3.59381366e-05, 4.64158883e-04, 5.99484250e-03,\n",
       "       7.74263683e-02, 1.00000000e+00])"
      ]
     },
     "execution_count": 86,
     "metadata": {},
     "output_type": "execute_result"
    }
   ],
   "source": [
    "import numpy as np\n",
    "from sklearn.model_selection import cross_val_score\n",
    "from sklearn import datasets, svm\n",
    "\n",
    "X, y = datasets.load_digits(return_X_y=True)\n",
    "\n",
    "svc = svm.SVC(kernel='linear')\n",
    "C_s = np.logspace(-10, 0, 10) #returns a number space evenly on a log scale, to graph a classification model\n",
    "scores = list()\n",
    "C_s"
   ]
  },
  {
   "cell_type": "markdown",
   "metadata": {},
   "source": [
    "So we have our,<br>\n",
    "1) Dataset<br>\n",
    "2) Our estimator, SVC, classification<br>\n",
    "3) and our logarithmic grid. This is what we will pass as C, regularization parmeter. The higher the C_s, the higher the cross validation score\n",
    "\n",
    "So all we need to do is, get the cross validation score for each of the C_s values (regularization parameter). Create a loop, to replace C in svc = svm.SVC(C=1,kernel='linear'). To make things easier, apprently we can assign ti this way, svc.C. This will tell the svc method to use the value we assing to C to the regularization parameter"
   ]
  },
  {
   "cell_type": "code",
   "execution_count": 96,
   "metadata": {},
   "outputs": [
    {
     "name": "stdout",
     "output_type": "stream",
     "text": [
      "C_s: [1.00000000e-10 1.29154967e-09 1.66810054e-08 2.15443469e-07\n",
      " 2.78255940e-06 3.59381366e-05 4.64158883e-04 5.99484250e-03\n",
      " 7.74263683e-02 1.00000000e+00]\n",
      "CV scores: [0.15754874651810585, 0.15754874651810585, 0.15754874651810585, 0.15754874651810585, 0.15754874651810585, 0.9065273909006499, 0.94937944908697, 0.949374806561436, 0.9476973073351903, 0.9476973073351903]\n"
     ]
    }
   ],
   "source": [
    "import numpy as np\n",
    "from sklearn.model_selection import cross_val_score\n",
    "from sklearn import datasets, svm\n",
    "\n",
    "X, y = datasets.load_digits(return_X_y=True)\n",
    "\n",
    "svc = svm.SVC(kernel='linear')\n",
    "C_s = np.logspace(-10, 0, 10) #returns a number space evenly on a log scale, to graph a classification model\n",
    "\n",
    "scores = list()\n",
    "\n",
    "#----Add Code\n",
    "scores_std = list()\n",
    "for C in C_s:\n",
    "    svc.C = C\n",
    "    this_scores = cross_val_score(svc, X, y, n_jobs=1)\n",
    "    scores.append(np.mean(this_scores))\n",
    "    scores_std.append(np.std(this_scores))\n",
    "    \n",
    "print(f'C_s: {C_s}')\n",
    "print(f'CV scores: {scores}')"
   ]
  },
  {
   "cell_type": "markdown",
   "metadata": {},
   "source": [
    "Here we see the higher the C_s value the higher the cross validation score, lower possibility of overfitting and lower the coefficient estimate to zero."
   ]
  },
  {
   "cell_type": "code",
   "execution_count": 97,
   "metadata": {},
   "outputs": [
    {
     "data": {
      "image/png": "[encoded data removed]",
      "text/plain": [
       "<Figure size 432x288 with 1 Axes>"
      ]
     },
     "metadata": {
      "needs_background": "light"
     },
     "output_type": "display_data"
    }
   ],
   "source": [
    "import matplotlib.pyplot as plt\n",
    "plt.figure()\n",
    "plt.semilogx(C_s, scores)\n",
    "plt.semilogx(C_s, np.array(scores) + np.array(scores_std), 'b--')\n",
    "plt.semilogx(C_s, np.array(scores) - np.array(scores_std), 'b--')\n",
    "locs, labels = plt.yticks()\n",
    "plt.yticks(locs, list(map(lambda x: \"%g\" % x, locs)))\n",
    "plt.ylabel('CV score')\n",
    "plt.xlabel('Parameter C')\n",
    "plt.ylim(0, 1.1)\n",
    "plt.show()"
   ]
  },
  {
   "cell_type": "markdown",
   "metadata": {},
   "source": [
    "# Grid-search and cross-validated estimators"
   ]
  },
  {
   "cell_type": "markdown",
   "metadata": {},
   "source": [
    "scikit-learn also has a grid serach object. This object used inconjunction with a cross validator estimator computes the score during the fit of an estimator on a paremter grid and picks the parameter to maximize the corss validation score. \"This object takes an estimator during the construction and exposes an estimator API:\"\n",
    "\n",
    "class sklearn.model_selection.GridSearchCV(estimator, param_grid, n_jobs=None)"
   ]
  },
  {
   "cell_type": "code",
   "execution_count": 102,
   "metadata": {},
   "outputs": [
    {
     "name": "stdout",
     "output_type": "stream",
     "text": [
      "clf best score is 0.95\n",
      "clf best estimator is 0.0021544346900318843\n"
     ]
    },
    {
     "data": {
      "text/plain": [
       "0.946047678795483"
      ]
     },
     "execution_count": 102,
     "metadata": {},
     "output_type": "execute_result"
    }
   ],
   "source": [
    "from sklearn.model_selection import GridSearchCV, cross_val_score\n",
    "Cs = np.logspace(-6, -1, 10)\n",
    "clf = GridSearchCV(estimator=svc, param_grid=dict(C=Cs),n_jobs=-1)\n",
    "clf.fit(X_digits[:1000], y_digits[:1000])        \n",
    "print(f'clf best score is {clf.best_score_}')\n",
    "print(f'clf best estimator is {clf.best_estimator_.C}')\n",
    "\n",
    "# Prediction performance on test set is not as good as on train set. Training set is from data set [:1000] (above)and\n",
    "#test set is from [1000:] (below)\n",
    "clf.score(X_digits[1000:], y_digits[1000:])   \n",
    "\n",
    "#So above score from the training set (0.95), is better than the test score from the bottom (0.9460), only slightly\n"
   ]
  },
  {
   "cell_type": "markdown",
   "metadata": {},
   "source": [
    "### Cross-validated estimators\n",
    "\"Cross-validation to set a parameter can be done more efficiently on an algorithm-by-algorithm basis. This is why, for certain estimators, scikit-learn exposes Cross-validation: evaluating estimator performance estimators that set their parameter automatically by cross-validation:\"\n"
   ]
  },
  {
   "cell_type": "code",
   "execution_count": null,
   "metadata": {},
   "outputs": [],
   "source": [
    ">>> from sklearn import linear_model, datasets\n",
    ">>> lasso = linear_model.LassoCV()\n",
    ">>> X_diabetes, y_diabetes = datasets.load_diabetes(return_X_y=True)\n",
    ">>> lasso.fit(X_diabetes, y_diabetes)\n",
    "LassoCV()\n",
    ">>> # The estimator chose automatically its lambda:\n",
    ">>> lasso.alpha_\n",
    "0.00375..."
   ]
  },
  {
   "cell_type": "markdown",
   "metadata": {},
   "source": [
    "Not sure whats going on here. Its saying that cross validation can be done more efficiently on an algorithm by algorithm basis. Some estimator automatically set their parameters by cross validation, meaning they set their own cross validation parameters?\n",
    "\n",
    "The above code uses the lasso model and says the labmda is automatically chosen, but looks at the alph. Are we saying that because the alpha is so small that the lambda is automatically chosen?\n",
    "\n",
    "Alpha is a parameter for regulariztion term, aka penalty term, that combats overfitting by constraining the sze of the wieghts. Increasin alpha may fix high variances (signe of over fitting), since overfitting tends to work well with specific data, using it with othe data will create a lot of variances. It does this by encouraging smaller weights, resulting in a decision bourndy plat that appars with lesser curvatures."
   ]
  },
  {
   "cell_type": "markdown",
   "metadata": {},
   "source": [
    "## Exercise #2\n",
    "On the diabetes dataset, find the optimal regularization parameter alpha.\n",
    "\n",
    "Bonus: How much can you trust the selection of alpha?"
   ]
  },
  {
   "cell_type": "code",
   "execution_count": null,
   "metadata": {},
   "outputs": [],
   "source": [
    "from sklearn import datasets\n",
    "from sklearn.linear_model import LassoCV\n",
    "from sklearn.linear_model import Lasso\n",
    "from sklearn.model_selection import KFold\n",
    "from sklearn.model_selection import GridSearchCV\n",
    "\n",
    "X, y = datasets.load_diabetes(return_X_y=True)\n",
    "X = X[:150]\n"
   ]
  },
  {
   "cell_type": "markdown",
   "metadata": {},
   "source": [
    "Remember that regularization is how well we let the model over fit and the alpha in the model drives that.\n",
    "\n",
    "From the above what do we have:\n",
    "\n",
    "1) Iris data set\n",
    "2) LassoCV, linearn model, where alph is already choosen and is searching over them. This also has its own folds defined (https://www.reddit.com/r/learnmachinelearning/comments/f8bvj2/difference_between_using_lassocv_and_lasso_with/)\n",
    "3) Lasso, basic linear Lasso model\n",
    "4) Kfolds, class that helps cut up the data\n",
    "5) GridsearchCV model \n",
    "\n",
    "Baiscally asking us, for the LassoCV, Lasso and GridsearchCB, what is the regularization paratmeter alpha (what is alpha for each of the two models). Higher alpha suggest more overfitting. \n",
    "\n",
    "Bonus question is asking how much can you trust the alpha. If the scores are the same and the alphs are the different, then for each model we are adjusting alph too much and are overfitting, its just tweeking alpha to get better scores."
   ]
  },
  {
   "cell_type": "code",
   "execution_count": 4,
   "metadata": {},
   "outputs": [
    {
     "name": "stdout",
     "output_type": "stream",
     "text": [
      "[0.39638051 0.39650624 0.39667201 0.39689044 0.39717807 0.39755659\n",
      " 0.39805404 0.39870708 0.3995624  0.40067986 0.40213502 0.40402065\n",
      " 0.40596304 0.40831427 0.41123993 0.41489967 0.41926122 0.42107802\n",
      " 0.42225458 0.42355432 0.42500251 0.42670708 0.42957468 0.43220641\n",
      " 0.43298992 0.43133725 0.42655766 0.41766182 0.4017079  0.3759415 ]\n",
      "[0.11863791 0.11859772 0.11854485 0.11847532 0.11838402 0.11826431\n",
      " 0.11810778 0.11790362 0.11763848 0.1172957  0.11685546 0.11629513\n",
      " 0.11546887 0.11437268 0.11298326 0.11130078 0.10948023 0.10804293\n",
      " 0.10623482 0.10406598 0.10140435 0.09800434 0.09373244 0.08903846\n",
      " 0.08378286 0.07585547 0.06699804 0.05613088 0.04655695 0.04982195]\n"
     ]
    },
    {
     "data": {
      "text/plain": [
       "(0.0001, 0.31622776601683794)"
      ]
     },
     "execution_count": 4,
     "metadata": {},
     "output_type": "execute_result"
    },
    {
     "data": {
      "image/png": "[encoded data removed]",
      "text/plain": [
       "<Figure size 576x432 with 1 Axes>"
      ]
     },
     "metadata": {
      "needs_background": "light"
     },
     "output_type": "display_data"
    }
   ],
   "source": [
    "import numpy as np\n",
    "import matplotlib.pyplot as plt\n",
    "\n",
    "from sklearn import datasets\n",
    "from sklearn.linear_model import LassoCV\n",
    "from sklearn.linear_model import Lasso\n",
    "from sklearn.model_selection import KFold\n",
    "from sklearn.model_selection import GridSearchCV\n",
    "\n",
    "X, y = datasets.load_diabetes(return_X_y=True)\n",
    "X = X[:150]\n",
    "y = y[:150]\n",
    "\n",
    "#----The above is given with the exception of y. X[:150] will be the training set and y[:150] will be the test set\n",
    "\n",
    "#---Next we create a lasso obeject with the Lasso model.\n",
    "#Using the Lasso model, set the random state see to 0 and use 10,000 iteration\n",
    "lasso = Lasso(random_state=0, max_iter=10000)\n",
    "alphas = np.logspace(-4, -0.5, 30) #return numbers evenly space on log scale, start, stop, number of pieces to separate\n",
    "\n",
    "tuned_parameters = [{'alpha': alphas}] #creates a dictionary array of the above alpha\n",
    "n_folds = 5 #sets the number of folds\n",
    "\n",
    "#---Cross validort that takes an estimator and obtains a score\n",
    "clf = GridSearchCV(lasso, tuned_parameters, cv=n_folds, refit=False)\n",
    "clf.fit(X, y)\n",
    "clf.fit(X,y)\n",
    "scores = clf.cv_results_['mean_test_score'] #find the mean of the 30 log scale we made earlier\n",
    "print(scores)\n",
    "scores_std = clf.cv_results_['std_test_score']\n",
    "print(scores_std)\n",
    "plt.figure().set_size_inches(8, 6) #creates an empty figure of 8,6 size\n",
    "plt.semilogx(alphas, scores) #makes a plot with log scale on the x axis. This is the solid blue line below\n",
    "\n",
    "# plot error lines showing +/- std. errors of the scores\n",
    "#standard error tells you how accurate the mean of any sample is, in relation to the population mean\n",
    "#that is if you were taking samples from a population, how close is that mean for the sample is to the population\n",
    "#higher std, higher std error, more samples less the std error\n",
    "std_error = scores_std / np.sqrt(n_folds)\n",
    "\n",
    "plt.semilogx(alphas, scores + std_error, 'b--') #take the mean score and add the std_error to each of them\n",
    "plt.semilogx(alphas, scores - std_error, 'b--')\n",
    "\n",
    "# alpha=0.2 controls the translucency of the fill color\n",
    "plt.fill_between(alphas, scores + std_error, scores - std_error, alpha=0.2)\n",
    "\n",
    "plt.ylabel('CV score +/- std error')\n",
    "plt.xlabel('alpha')\n",
    "plt.axhline(np.max(scores), linestyle='--', color='.5')\n",
    "plt.xlim([alphas[0], alphas[-1]])\n"
   ]
  },
  {
   "cell_type": "code",
   "execution_count": 6,
   "metadata": {},
   "outputs": [
    {
     "name": "stdout",
     "output_type": "stream",
     "text": [
      "KFold(n_splits=3, random_state=None, shuffle=False)\n",
      "Answer to the bonus question: how much can you trust the selection of alpha?\n",
      "\n",
      "Alpha parameters maximising the generalization score on different\n",
      "subsets of the data:\n",
      "[fold 0] alpha: 0.05968, score: 0.54209\n",
      "[fold 1] alpha: 0.04520, score: 0.15523\n",
      "[fold 2] alpha: 0.07880, score: 0.45193\n",
      "\n",
      "Answer: Not very much since we obtained different alphas for different\n",
      "subsets of the data and moreover, the scores for these alphas differ\n",
      "quite substantially.\n"
     ]
    }
   ],
   "source": [
    "# #############################################################################\n",
    "# Bonus: how much can you trust the selection of alpha?\n",
    "\n",
    "# To answer this question we use the LassoCV object that sets its alpha\n",
    "# parameter automatically from the data by internal cross-validation (i.e. it\n",
    "# performs cross-validation on the training data it receives).\n",
    "# We use external cross-validation to see how much the automatically obtained\n",
    "# alphas differ across different cross-validation folds.\n",
    "lasso_cv = LassoCV(alphas=alphas, random_state=0, max_iter=10000) \n",
    "k_fold = KFold(3) #3 folds\n",
    "\n",
    "print(\"Answer to the bonus question:\",\n",
    "      \"how much can you trust the selection of alpha?\")\n",
    "print()\n",
    "print(\"Alpha parameters maximising the generalization score on different\")\n",
    "print(\"subsets of the data:\")\n",
    "for k, (train, test) in enumerate(k_fold.split(X, y)): #enumerate returns count and the value\n",
    "    lasso_cv.fit(X[train], y[train])\n",
    "    print(\"[fold {0}] alpha: {1:.5f}, score: {2:.5f}\".\n",
    "          format(k, lasso_cv.alpha_, lasso_cv.score(X[test], y[test]))) #f string returns the count (k), the alpha, and the score\n",
    "print()\n",
    "print(\"Answer: Not very much since we obtained different alphas for different\")\n",
    "print(\"subsets of the data and moreover, the scores for these alphas differ\")\n",
    "print(\"quite substantially.\")\n",
    "\n",
    "plt.show()"
   ]
  },
  {
   "cell_type": "markdown",
   "metadata": {},
   "source": [
    "From the above results of the cross validation, we see that there were 3 folds and that the alph are different, so that the model adjust the alpha to get the best fit, and even then the difference in the score are somewhat wide."
   ]
  }
 ],
 "metadata": {
  "kernelspec": {
   "display_name": "Python 3",
   "language": "python",
   "name": "python3"
  },
  "language_info": {
   "codemirror_mode": {
    "name": "ipython",
    "version": 3
   },
   "file_extension": ".py",
   "mimetype": "text/x-python",
   "name": "python",
   "nbconvert_exporter": "python",
   "pygments_lexer": "ipython3",
   "version": "3.8.10"
  }
 },
 "nbformat": 4,
 "nbformat_minor": 2
}
